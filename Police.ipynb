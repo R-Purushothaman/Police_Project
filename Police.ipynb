{
 "cells": [
  {
   "cell_type": "code",
   "execution_count": 4,
   "id": "82663a12",
   "metadata": {},
   "outputs": [
    {
     "name": "stdout",
     "output_type": "stream",
     "text": [
      "Requirement already satisfied: mysql-connector-python in c:\\users\\admin\\appdata\\local\\programs\\python\\python313\\lib\\site-packages (9.4.0)\n"
     ]
    }
   ],
   "source": [
    "!pip install mysql-connector-python"
   ]
  },
  {
   "cell_type": "code",
   "execution_count": 1,
   "id": "8d268fd2",
   "metadata": {},
   "outputs": [
    {
     "name": "stdout",
     "output_type": "stream",
     "text": [
      "<mysql.connector.connection_cext.CMySQLConnection object at 0x00000251CDA73CB0>\n"
     ]
    }
   ],
   "source": [
    "import mysql.connector\n",
    "\n",
    "\n",
    "mydb = mysql.connector.connect(\n",
    " host=\"localhost\",\n",
    " user=\"root\",\n",
    " password=\"\",\n",
    "\n",
    "\n",
    ")\n",
    "\n",
    "\n",
    "print(mydb)\n",
    "mycursor = mydb.cursor(buffered=True)\n"
   ]
  },
  {
   "cell_type": "code",
   "execution_count": 7,
   "id": "0820d25a",
   "metadata": {},
   "outputs": [],
   "source": [
    "import pandas as pd"
   ]
  },
  {
   "cell_type": "code",
   "execution_count": 8,
   "id": "3e6182a6",
   "metadata": {},
   "outputs": [
    {
     "name": "stderr",
     "output_type": "stream",
     "text": [
      "C:\\Users\\admin\\AppData\\Local\\Temp\\ipykernel_21296\\3804491888.py:1: DtypeWarning: Columns (10) have mixed types. Specify dtype option on import or set low_memory=False.\n",
      "  df=pd.read_csv(\"C://Users//admin//Downloads//traffic_stops - traffic_stops_with_vehicle_number.csv\")\n"
     ]
    }
   ],
   "source": [
    "df=pd.read_csv(\"C://Users//admin//Downloads//traffic_stops - traffic_stops_with_vehicle_number.csv\")"
   ]
  },
  {
   "cell_type": "code",
   "execution_count": 9,
   "id": "f2a39094",
   "metadata": {},
   "outputs": [
    {
     "data": {
      "text/plain": [
       "0        UP76DY3473\n",
       "1        RJ83PZ4441\n",
       "2        RJ32OM7264\n",
       "3        RJ76TI3807\n",
       "4        WB63BB8305\n",
       "            ...    \n",
       "65533    DL56GW6568\n",
       "65534    TN73EO7098\n",
       "65535    GJ33MX8328\n",
       "65536    KA24UZ8488\n",
       "65537    UP89PT2924\n",
       "Name: vehicle_number, Length: 65538, dtype: object"
      ]
     },
     "metadata": {},
     "output_type": "display_data"
    }
   ],
   "source": [
    "display(df['vehicle_number'])"
   ]
  },
  {
   "cell_type": "code",
   "execution_count": 15,
   "id": "d3f9058f",
   "metadata": {},
   "outputs": [
    {
     "name": "stdout",
     "output_type": "stream",
     "text": [
      "0        False\n",
      "1        False\n",
      "2        False\n",
      "3        False\n",
      "4        False\n",
      "         ...  \n",
      "65533    False\n",
      "65534    False\n",
      "65535    False\n",
      "65536    False\n",
      "65537    False\n",
      "Name: vehicle_number, Length: 65538, dtype: bool\n"
     ]
    }
   ],
   "source": [
    "duplicates=df['vehicle_number'].duplicated()\n",
    "print(duplicates)"
   ]
  },
  {
   "cell_type": "code",
   "execution_count": 51,
   "id": "a7e616e4",
   "metadata": {},
   "outputs": [
    {
     "name": "stdout",
     "output_type": "stream",
     "text": [
      "<class 'pandas.core.frame.DataFrame'>\n",
      "RangeIndex: 65538 entries, 0 to 65537\n",
      "Data columns (total 16 columns):\n",
      " #   Column              Non-Null Count  Dtype         \n",
      "---  ------              --------------  -----         \n",
      " 0   stop_date           65538 non-null  datetime64[ns]\n",
      " 1   stop_time           65538 non-null  datetime64[ns]\n",
      " 2   country_name        65538 non-null  object        \n",
      " 3   driver_gender       65538 non-null  object        \n",
      " 4   driver_age_raw      65538 non-null  int64         \n",
      " 5   driver_age          65538 non-null  int64         \n",
      " 6   driver_race         65538 non-null  object        \n",
      " 7   violation_raw       65538 non-null  object        \n",
      " 8   violation           65538 non-null  object        \n",
      " 9   search_conducted    65538 non-null  bool          \n",
      " 10  search_type         65538 non-null  object        \n",
      " 11  stop_outcome        65538 non-null  object        \n",
      " 12  is_arrested         65538 non-null  bool          \n",
      " 13  stop_duration       65538 non-null  object        \n",
      " 14  drugs_related_stop  65538 non-null  bool          \n",
      " 15  vehicle_number      65538 non-null  object        \n",
      "dtypes: bool(3), datetime64[ns](2), int64(2), object(9)\n",
      "memory usage: 6.7+ MB\n"
     ]
    }
   ],
   "source": [
    "df.info()"
   ]
  },
  {
   "cell_type": "code",
   "execution_count": 49,
   "id": "03acf2dd",
   "metadata": {},
   "outputs": [
    {
     "data": {
      "text/plain": [
       "stop_date             0\n",
       "stop_time             0\n",
       "country_name          0\n",
       "driver_gender         0\n",
       "driver_age_raw        0\n",
       "driver_age            0\n",
       "driver_race           0\n",
       "violation_raw         0\n",
       "violation             0\n",
       "search_conducted      0\n",
       "search_type           0\n",
       "stop_outcome          0\n",
       "is_arrested           0\n",
       "stop_duration         0\n",
       "drugs_related_stop    0\n",
       "vehicle_number        0\n",
       "dtype: int64"
      ]
     },
     "execution_count": 49,
     "metadata": {},
     "output_type": "execute_result"
    }
   ],
   "source": [
    "df.isnull().sum()"
   ]
  },
  {
   "cell_type": "code",
   "execution_count": 42,
   "id": "04cc5ade",
   "metadata": {},
   "outputs": [],
   "source": [
    "df = df.fillna('unknown')"
   ]
  },
  {
   "cell_type": "code",
   "execution_count": 50,
   "id": "24216a74",
   "metadata": {},
   "outputs": [],
   "source": [
    "df['stop_date'] = df['stop_date'].astype('datetime64[ns]')\n",
    "df['stop_time'] = df['stop_time'].astype('datetime64[ns]')"
   ]
  },
  {
   "cell_type": "code",
   "execution_count": 43,
   "id": "0b5ba9c4",
   "metadata": {},
   "outputs": [
    {
     "data": {
      "text/html": [
       "<div>\n",
       "<style scoped>\n",
       "    .dataframe tbody tr th:only-of-type {\n",
       "        vertical-align: middle;\n",
       "    }\n",
       "\n",
       "    .dataframe tbody tr th {\n",
       "        vertical-align: top;\n",
       "    }\n",
       "\n",
       "    .dataframe thead th {\n",
       "        text-align: right;\n",
       "    }\n",
       "</style>\n",
       "<table border=\"1\" class=\"dataframe\">\n",
       "  <thead>\n",
       "    <tr style=\"text-align: right;\">\n",
       "      <th></th>\n",
       "      <th>stop_date</th>\n",
       "      <th>stop_time</th>\n",
       "      <th>country_name</th>\n",
       "      <th>driver_gender</th>\n",
       "      <th>driver_age_raw</th>\n",
       "      <th>driver_age</th>\n",
       "      <th>driver_race</th>\n",
       "      <th>violation_raw</th>\n",
       "      <th>violation</th>\n",
       "      <th>search_conducted</th>\n",
       "      <th>search_type</th>\n",
       "      <th>stop_outcome</th>\n",
       "      <th>is_arrested</th>\n",
       "      <th>stop_duration</th>\n",
       "      <th>drugs_related_stop</th>\n",
       "      <th>vehicle_number</th>\n",
       "    </tr>\n",
       "  </thead>\n",
       "  <tbody>\n",
       "    <tr>\n",
       "      <th>0</th>\n",
       "      <td>2020-01-01</td>\n",
       "      <td>0:00:00</td>\n",
       "      <td>Canada</td>\n",
       "      <td>M</td>\n",
       "      <td>59</td>\n",
       "      <td>19</td>\n",
       "      <td>Asian</td>\n",
       "      <td>Drunk Driving</td>\n",
       "      <td>Speeding</td>\n",
       "      <td>True</td>\n",
       "      <td>Vehicle Search</td>\n",
       "      <td>Ticket</td>\n",
       "      <td>True</td>\n",
       "      <td>16-30 Min</td>\n",
       "      <td>True</td>\n",
       "      <td>UP76DY3473</td>\n",
       "    </tr>\n",
       "    <tr>\n",
       "      <th>1</th>\n",
       "      <td>2020-01-01</td>\n",
       "      <td>0:01:00</td>\n",
       "      <td>India</td>\n",
       "      <td>M</td>\n",
       "      <td>35</td>\n",
       "      <td>58</td>\n",
       "      <td>Other</td>\n",
       "      <td>Other</td>\n",
       "      <td>Other</td>\n",
       "      <td>False</td>\n",
       "      <td>Vehicle Search</td>\n",
       "      <td>Arrest</td>\n",
       "      <td>True</td>\n",
       "      <td>16-30 Min</td>\n",
       "      <td>True</td>\n",
       "      <td>RJ83PZ4441</td>\n",
       "    </tr>\n",
       "    <tr>\n",
       "      <th>2</th>\n",
       "      <td>2020-01-01</td>\n",
       "      <td>0:02:00</td>\n",
       "      <td>USA</td>\n",
       "      <td>M</td>\n",
       "      <td>26</td>\n",
       "      <td>76</td>\n",
       "      <td>Black</td>\n",
       "      <td>Signal Violation</td>\n",
       "      <td>Speeding</td>\n",
       "      <td>False</td>\n",
       "      <td>Frisk</td>\n",
       "      <td>Ticket</td>\n",
       "      <td>True</td>\n",
       "      <td>16-30 Min</td>\n",
       "      <td>True</td>\n",
       "      <td>RJ32OM7264</td>\n",
       "    </tr>\n",
       "    <tr>\n",
       "      <th>3</th>\n",
       "      <td>2020-01-01</td>\n",
       "      <td>0:03:00</td>\n",
       "      <td>Canada</td>\n",
       "      <td>M</td>\n",
       "      <td>26</td>\n",
       "      <td>76</td>\n",
       "      <td>Black</td>\n",
       "      <td>Speeding</td>\n",
       "      <td>DUI</td>\n",
       "      <td>True</td>\n",
       "      <td>Frisk</td>\n",
       "      <td>Warning</td>\n",
       "      <td>False</td>\n",
       "      <td>0-15 Min</td>\n",
       "      <td>True</td>\n",
       "      <td>RJ76TI3807</td>\n",
       "    </tr>\n",
       "    <tr>\n",
       "      <th>4</th>\n",
       "      <td>2020-01-01</td>\n",
       "      <td>0:04:00</td>\n",
       "      <td>Canada</td>\n",
       "      <td>M</td>\n",
       "      <td>62</td>\n",
       "      <td>75</td>\n",
       "      <td>Other</td>\n",
       "      <td>Speeding</td>\n",
       "      <td>Other</td>\n",
       "      <td>False</td>\n",
       "      <td>Vehicle Search</td>\n",
       "      <td>Arrest</td>\n",
       "      <td>True</td>\n",
       "      <td>16-30 Min</td>\n",
       "      <td>False</td>\n",
       "      <td>WB63BB8305</td>\n",
       "    </tr>\n",
       "    <tr>\n",
       "      <th>...</th>\n",
       "      <td>...</td>\n",
       "      <td>...</td>\n",
       "      <td>...</td>\n",
       "      <td>...</td>\n",
       "      <td>...</td>\n",
       "      <td>...</td>\n",
       "      <td>...</td>\n",
       "      <td>...</td>\n",
       "      <td>...</td>\n",
       "      <td>...</td>\n",
       "      <td>...</td>\n",
       "      <td>...</td>\n",
       "      <td>...</td>\n",
       "      <td>...</td>\n",
       "      <td>...</td>\n",
       "      <td>...</td>\n",
       "    </tr>\n",
       "    <tr>\n",
       "      <th>65533</th>\n",
       "      <td>2020-02-15</td>\n",
       "      <td>12:13:00</td>\n",
       "      <td>India</td>\n",
       "      <td>F</td>\n",
       "      <td>54</td>\n",
       "      <td>48</td>\n",
       "      <td>Black</td>\n",
       "      <td>Other</td>\n",
       "      <td>Other</td>\n",
       "      <td>False</td>\n",
       "      <td>Vehicle Search</td>\n",
       "      <td>Arrest</td>\n",
       "      <td>True</td>\n",
       "      <td>16-30 Min</td>\n",
       "      <td>False</td>\n",
       "      <td>DL56GW6568</td>\n",
       "    </tr>\n",
       "    <tr>\n",
       "      <th>65534</th>\n",
       "      <td>2020-02-15</td>\n",
       "      <td>12:14:00</td>\n",
       "      <td>Canada</td>\n",
       "      <td>F</td>\n",
       "      <td>18</td>\n",
       "      <td>35</td>\n",
       "      <td>Hispanic</td>\n",
       "      <td>Seatbelt</td>\n",
       "      <td>Other</td>\n",
       "      <td>True</td>\n",
       "      <td>Vehicle Search</td>\n",
       "      <td>Ticket</td>\n",
       "      <td>False</td>\n",
       "      <td>16-30 Min</td>\n",
       "      <td>True</td>\n",
       "      <td>TN73EO7098</td>\n",
       "    </tr>\n",
       "    <tr>\n",
       "      <th>65535</th>\n",
       "      <td>2020-02-15</td>\n",
       "      <td>12:15:00</td>\n",
       "      <td>USA</td>\n",
       "      <td>M</td>\n",
       "      <td>27</td>\n",
       "      <td>41</td>\n",
       "      <td>Asian</td>\n",
       "      <td>Seatbelt</td>\n",
       "      <td>DUI</td>\n",
       "      <td>True</td>\n",
       "      <td>Frisk</td>\n",
       "      <td>Ticket</td>\n",
       "      <td>True</td>\n",
       "      <td>30+ Min</td>\n",
       "      <td>True</td>\n",
       "      <td>GJ33MX8328</td>\n",
       "    </tr>\n",
       "    <tr>\n",
       "      <th>65536</th>\n",
       "      <td>2020-02-15</td>\n",
       "      <td>12:16:00</td>\n",
       "      <td>Canada</td>\n",
       "      <td>F</td>\n",
       "      <td>49</td>\n",
       "      <td>63</td>\n",
       "      <td>Black</td>\n",
       "      <td>Seatbelt</td>\n",
       "      <td>Other</td>\n",
       "      <td>False</td>\n",
       "      <td>unknown</td>\n",
       "      <td>Warning</td>\n",
       "      <td>True</td>\n",
       "      <td>0-15 Min</td>\n",
       "      <td>True</td>\n",
       "      <td>KA24UZ8488</td>\n",
       "    </tr>\n",
       "    <tr>\n",
       "      <th>65537</th>\n",
       "      <td>2020-02-15</td>\n",
       "      <td>12:17:00</td>\n",
       "      <td>USA</td>\n",
       "      <td>F</td>\n",
       "      <td>72</td>\n",
       "      <td>32</td>\n",
       "      <td>Other</td>\n",
       "      <td>Seatbelt</td>\n",
       "      <td>Speeding</td>\n",
       "      <td>True</td>\n",
       "      <td>unknown</td>\n",
       "      <td>Ticket</td>\n",
       "      <td>True</td>\n",
       "      <td>16-30 Min</td>\n",
       "      <td>False</td>\n",
       "      <td>UP89PT2924</td>\n",
       "    </tr>\n",
       "  </tbody>\n",
       "</table>\n",
       "<p>65538 rows × 16 columns</p>\n",
       "</div>"
      ],
      "text/plain": [
       "        stop_date stop_time country_name driver_gender  driver_age_raw  \\\n",
       "0      2020-01-01   0:00:00       Canada             M              59   \n",
       "1      2020-01-01   0:01:00        India             M              35   \n",
       "2      2020-01-01   0:02:00          USA             M              26   \n",
       "3      2020-01-01   0:03:00       Canada             M              26   \n",
       "4      2020-01-01   0:04:00       Canada             M              62   \n",
       "...           ...       ...          ...           ...             ...   \n",
       "65533  2020-02-15  12:13:00        India             F              54   \n",
       "65534  2020-02-15  12:14:00       Canada             F              18   \n",
       "65535  2020-02-15  12:15:00          USA             M              27   \n",
       "65536  2020-02-15  12:16:00       Canada             F              49   \n",
       "65537  2020-02-15  12:17:00          USA             F              72   \n",
       "\n",
       "       driver_age driver_race     violation_raw violation  search_conducted  \\\n",
       "0              19       Asian     Drunk Driving  Speeding              True   \n",
       "1              58       Other             Other     Other             False   \n",
       "2              76       Black  Signal Violation  Speeding             False   \n",
       "3              76       Black          Speeding       DUI              True   \n",
       "4              75       Other          Speeding     Other             False   \n",
       "...           ...         ...               ...       ...               ...   \n",
       "65533          48       Black             Other     Other             False   \n",
       "65534          35    Hispanic          Seatbelt     Other              True   \n",
       "65535          41       Asian          Seatbelt       DUI              True   \n",
       "65536          63       Black          Seatbelt     Other             False   \n",
       "65537          32       Other          Seatbelt  Speeding              True   \n",
       "\n",
       "          search_type stop_outcome  is_arrested stop_duration  \\\n",
       "0      Vehicle Search       Ticket         True     16-30 Min   \n",
       "1      Vehicle Search       Arrest         True     16-30 Min   \n",
       "2               Frisk       Ticket         True     16-30 Min   \n",
       "3               Frisk      Warning        False      0-15 Min   \n",
       "4      Vehicle Search       Arrest         True     16-30 Min   \n",
       "...               ...          ...          ...           ...   \n",
       "65533  Vehicle Search       Arrest         True     16-30 Min   \n",
       "65534  Vehicle Search       Ticket        False     16-30 Min   \n",
       "65535           Frisk       Ticket         True       30+ Min   \n",
       "65536         unknown      Warning         True      0-15 Min   \n",
       "65537         unknown       Ticket         True     16-30 Min   \n",
       "\n",
       "       drugs_related_stop vehicle_number  \n",
       "0                    True     UP76DY3473  \n",
       "1                    True     RJ83PZ4441  \n",
       "2                    True     RJ32OM7264  \n",
       "3                    True     RJ76TI3807  \n",
       "4                   False     WB63BB8305  \n",
       "...                   ...            ...  \n",
       "65533               False     DL56GW6568  \n",
       "65534                True     TN73EO7098  \n",
       "65535                True     GJ33MX8328  \n",
       "65536                True     KA24UZ8488  \n",
       "65537               False     UP89PT2924  \n",
       "\n",
       "[65538 rows x 16 columns]"
      ]
     },
     "execution_count": 43,
     "metadata": {},
     "output_type": "execute_result"
    }
   ],
   "source": [
    "df"
   ]
  },
  {
   "cell_type": "code",
   "execution_count": 60,
   "id": "fae81649",
   "metadata": {},
   "outputs": [],
   "source": [
    "df.to_csv('traffic_stops.csv',index=False)"
   ]
  },
  {
   "cell_type": "code",
   "execution_count": 12,
   "id": "584f185c",
   "metadata": {},
   "outputs": [],
   "source": [
    "df=pd.read_csv(\"traffic_stops.csv\")"
   ]
  },
  {
   "cell_type": "code",
   "execution_count": 55,
   "id": "42fd920d",
   "metadata": {},
   "outputs": [
    {
     "name": "stdout",
     "output_type": "stream",
     "text": [
      "Database created successfully\n"
     ]
    }
   ],
   "source": [
    "mycursor.execute('create database if not exists Police')\n",
    "print('Database created successfully')"
   ]
  },
  {
   "cell_type": "code",
   "execution_count": 9,
   "id": "5f55487f",
   "metadata": {},
   "outputs": [],
   "source": [
    "mycursor.execute(\"\"\"create table Police.data(\n",
    "    id INT AUTO_INCREMENT PRIMARY KEY,\n",
    "    stop_date DATE,\n",
    "    stop_time DATETIME,\n",
    "    country_name VARCHAR(50),\n",
    "    driver_gender VARCHAR(10),\n",
    "    driver_age_raw INT(4),\n",
    "    driver_age INT(4),\n",
    "    driver_race VARCHAR(50),\n",
    "    violation_raw VARCHAR(50),\n",
    "    violation VARCHAR(50),\n",
    "    search_conducted BOOLEAN,\n",
    "    search_type VARCHAR(50),\n",
    "    stop_outcome VARCHAR(50),\n",
    "    is_arrested BOOLEAN,\n",
    "    stop_duration VARCHAR(50),\n",
    "    drugs_related_stop BOOLEAN,\n",
    "    vehicle_number VARCHAR(50)\n",
    "                 )\"\"\")"
   ]
  },
  {
   "cell_type": "code",
   "execution_count": 13,
   "id": "cfe91758",
   "metadata": {},
   "outputs": [
    {
     "name": "stdout",
     "output_type": "stream",
     "text": [
      "Prepared 16 rows for insertion\n"
     ]
    }
   ],
   "source": [
    "insert_query = \"\"\" insert into Police.data \n",
    "        (stop_date, stop_time, country_name , driver_gender, driver_age_raw ,\n",
    "    driver_age, driver_race, violation_raw, violation, search_conducted, search_type,\n",
    "    stop_outcome, is_arrested, stop_duration, drugs_related_stop, vehicle_number)\n",
    "    values (%s,%s,%s,%s,%s,%s,%s,%s,%s,%s,%s,%s,%s,%s,%s,%s)\"\"\"\n",
    "\n",
    "for _, row in df.iterrows():\n",
    "    data_list = (\n",
    "        row.get('stop_date', None),\n",
    "        row.get('stop_time', None),\n",
    "        row.get('country_name', None),\n",
    "        row.get('driver_gender', None),\n",
    "        row.get('driver_age_raw', None),\n",
    "        row.get('driver_age', None),\n",
    "        row.get('driver_race', None),\n",
    "        row.get('violation_raw', None),\n",
    "        row.get('violation', None),\n",
    "        row.get('search_conducted', None),\n",
    "        row.get('search_type', None),\n",
    "        row.get('stop_outcome', None),\n",
    "        row.get('is_arrested', None),\n",
    "        row.get('stop_duration', None),\n",
    "        row.get('drugs_related_stop', None),\n",
    "        row.get('vehicle_number', None)\n",
    "    )\n",
    "    mycursor.execute(insert_query,data_list)\n",
    "mydb.commit()\n",
    "print(f\"Prepared {len(data_list)} rows for insertion\")\n",
    "mycursor.close()\n",
    "mydb.close()"
   ]
  }
 ],
 "metadata": {
  "kernelspec": {
   "display_name": "Python 3",
   "language": "python",
   "name": "python3"
  },
  "language_info": {
   "codemirror_mode": {
    "name": "ipython",
    "version": 3
   },
   "file_extension": ".py",
   "mimetype": "text/x-python",
   "name": "python",
   "nbconvert_exporter": "python",
   "pygments_lexer": "ipython3",
   "version": "3.13.7"
  }
 },
 "nbformat": 4,
 "nbformat_minor": 5
}
